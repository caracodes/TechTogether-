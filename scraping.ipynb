{
 "cells": [
  {
   "cell_type": "code",
   "execution_count": null,
   "metadata": {},
   "outputs": [],
   "source": [
    "import pandas as pd\n",
    "from pandas import DataFrame\n",
    "import os\n",
    "\n",
    "df = DataFrame(columns=[\"Company\",\"Privacy Policy\"])\n",
    "folder = \"/Users/stellaikpatt/Desktop/companies_copy\"\n",
    "\n",
    "for file in os.listdir(folder):\n",
    "    if file.endswith(\".xml\"):\n",
    "        infile = open(folder+\"/\"+file, \"r\")\n",
    "        contents = infile.read()\n",
    "        soup = BeautifulSoup(contents, \"xml\")\n",
    "        \n",
    "    extra_txt = [\"www_\", \".xml\", \"about_\"]\n",
    "    title = os.fsdecode(file)\n",
    "    \n",
    "    if extra_txt[0] in title or extra_txt[1] in title or extra_txt[2] in title:\n",
    "        final_title = False\n",
    "        while final_title == False:\n",
    "            for extra in extra_txt:\n",
    "                if extra in title:\n",
    "                    title = title.replace(extra,\"\")\n",
    "                    name = title\n",
    "                else:\n",
    "                    continue\n",
    "            final_title = True\n",
    "    else:\n",
    "        name = title\n",
    "\n",
    "    policy = soup.get_text()\n",
    "    \n",
    "    file_dict = {\"Company\":name, \"Privacy Policy\":policy}\n",
    "    df = df.append(file_dict, ignore_index=True)"
   ]
  },
  {
   "cell_type": "code",
   "execution_count": null,
   "metadata": {},
   "outputs": [],
   "source": [
    "df.to_excel(\"Company_Privacy_Training.xlsx\")"
   ]
  }
 ],
 "metadata": {
  "kernelspec": {
   "display_name": "Python 3",
   "language": "python",
   "name": "python3"
  },
  "language_info": {
   "codemirror_mode": {
    "name": "ipython",
    "version": 3
   },
   "file_extension": ".py",
   "mimetype": "text/x-python",
   "name": "python",
   "nbconvert_exporter": "python",
   "pygments_lexer": "ipython3",
   "version": "3.7.4"
  }
 },
 "nbformat": 4,
 "nbformat_minor": 2
}
